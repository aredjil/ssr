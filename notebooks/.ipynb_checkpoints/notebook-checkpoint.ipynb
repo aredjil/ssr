{
 "cells": [
  {
   "cell_type": "code",
   "execution_count": 1,
   "id": "6481e825-9435-4567-852f-dfd6c4175de9",
   "metadata": {},
   "outputs": [],
   "source": [
    "import numpy as np \n",
    "import matplotlib.pyplot as plt "
   ]
  },
  {
   "cell_type": "code",
   "execution_count": null,
   "id": "e3fd0233-f573-41a4-b6fa-4d69ed0dfcd9",
   "metadata": {},
   "outputs": [],
   "source": [
    "# Standard SSR \n",
    "# Code here"
   ]
  },
  {
   "cell_type": "code",
   "execution_count": null,
   "id": "8f6931a9-9a9f-4857-8637-39c6f79095af",
   "metadata": {},
   "outputs": [],
   "source": [
    "# Noisy SSR\n",
    "# Code here "
   ]
  },
  {
   "cell_type": "code",
   "execution_count": null,
   "id": "f8f9866c-f286-4ab2-83bc-826048a30b90",
   "metadata": {},
   "outputs": [],
   "source": [
    "# Present the results "
   ]
  },
  {
   "cell_type": "code",
   "execution_count": 2,
   "id": "da3eb965-5f65-4f0b-8a32-e762e03e1c29",
   "metadata": {},
   "outputs": [],
   "source": [
    "# SSR cascade \n",
    "# code goes here \n",
    "# :) "
   ]
  }
 ],
 "metadata": {
  "kernelspec": {
   "display_name": "Python 3 (ipykernel)",
   "language": "python",
   "name": "python3"
  },
  "language_info": {
   "codemirror_mode": {
    "name": "ipython",
    "version": 3
   },
   "file_extension": ".py",
   "mimetype": "text/x-python",
   "name": "python",
   "nbconvert_exporter": "python",
   "pygments_lexer": "ipython3",
   "version": "3.13.2"
  }
 },
 "nbformat": 4,
 "nbformat_minor": 5
}
